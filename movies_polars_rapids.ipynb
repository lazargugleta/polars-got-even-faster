{
  "nbformat": 4,
  "nbformat_minor": 0,
  "metadata": {
    "colab": {
      "provenance": [],
      "gpuType": "T4"
    },
    "kernelspec": {
      "name": "python3",
      "display_name": "Python 3"
    },
    "language_info": {
      "name": "python"
    },
    "accelerator": "GPU"
  },
  "cells": [
    {
      "cell_type": "markdown",
      "source": [
        "1. Upload downloaded csv from [Full TMDB Movies Dataset 2024 (1M Movies) Kaggle Dataset](https://www.kaggle.com/datasets/asaniczka/tmdb-movies-dataset-2023-930k-movies) to Google Drive root folder.\n",
        "\n",
        "2. Mount the Google Drive in Colab\n",
        "\n",
        "3. Run the Script"
      ],
      "metadata": {
        "id": "eMoeuOZAus32"
      }
    },
    {
      "cell_type": "code",
      "execution_count": null,
      "metadata": {
        "id": "ql9pSIb4R9jg"
      },
      "outputs": [],
      "source": [
        "!pip install -U polars[gpu] --extra-index-url=https://pypi.nvidia.com\n",
        "!pip install --extra-index-url=https://pypi.nvidia.com cudf-cu11\n",
        "!pip install --extra-index-url=https://pypi.nvidia.com cudf-cu12"
      ]
    },
    {
      "cell_type": "code",
      "source": [
        "import polars as pl\n",
        "\n",
        "df = pl.scan_csv('/content/drive/MyDrive/TMDB_movie_dataset_v11.csv')\n",
        "\n",
        "print(df)"
      ],
      "metadata": {
        "colab": {
          "base_uri": "https://localhost:8080/"
        },
        "id": "zJpGVL7tVqks",
        "outputId": "ba7272b2-cebf-4f8b-e38c-85f6ef70c1e7"
      },
      "execution_count": 2,
      "outputs": [
        {
          "output_type": "stream",
          "name": "stdout",
          "text": [
            "naive plan: (run LazyFrame.explain(optimized=True) to see the optimized plan)\n",
            "\n",
            "Csv SCAN [/content/drive/MyDrive/TMDB_movie_dataset_v11.csv]\n",
            "PROJECT */24 COLUMNS\n"
          ]
        }
      ]
    },
    {
      "cell_type": "code",
      "source": [
        "%%time\n",
        "\n",
        "# Group by production companies and calculate the max revenue\n",
        "max_revenue_per_company = (df.group_by('production_companies')\n",
        "                                    .agg(pl.col('revenue').max())\n",
        "                                    .sort(\"revenue\", descending=True)\n",
        "                                    .collect())"
      ],
      "metadata": {
        "colab": {
          "base_uri": "https://localhost:8080/"
        },
        "id": "tUL0gjoOrled",
        "outputId": "c468c483-e401-4ed6-970b-87d6b9aa55a3"
      },
      "execution_count": 7,
      "outputs": [
        {
          "output_type": "stream",
          "name": "stdout",
          "text": [
            "CPU times: user 1.49 s, sys: 311 ms, total: 1.8 s\n",
            "Wall time: 2.28 s\n"
          ]
        }
      ]
    },
    {
      "cell_type": "code",
      "source": [
        "gpu_engine = pl.GPUEngine(\n",
        "    device=0, # This is the default\n",
        "    raise_on_fail=True, # Fail loudly if we can't run on the GPU.\n",
        ")"
      ],
      "metadata": {
        "id": "6Ov7eQu1ahP9"
      },
      "execution_count": 4,
      "outputs": []
    },
    {
      "cell_type": "code",
      "source": [
        "%%time\n",
        "\n",
        "max_revenue_per_company = (df.group_by('production_companies')\n",
        "                                    .agg(pl.col('revenue').max())\n",
        "                                    .sort(\"revenue\", descending=True)\n",
        "                                    .collect(engine=gpu_engine))"
      ],
      "metadata": {
        "colab": {
          "base_uri": "https://localhost:8080/"
        },
        "id": "uUIcrBX7hhnb",
        "outputId": "be352ca7-dd48-4512-f9e6-e12f494818bc"
      },
      "execution_count": 11,
      "outputs": [
        {
          "output_type": "stream",
          "name": "stdout",
          "text": [
            "CPU times: user 193 ms, sys: 298 ms, total: 491 ms\n",
            "Wall time: 754 ms\n"
          ]
        }
      ]
    }
  ]
}